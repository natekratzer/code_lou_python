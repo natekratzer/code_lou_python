{
 "cells": [
  {
   "cell_type": "markdown",
   "metadata": {},
   "source": [
    "##Did Louisville's unemployment rate recover from the recession more quickly than similar cities?\n",
    "\n",
    "Importing libraries and setting the working directory"
   ]
  },
  {
   "cell_type": "markdown",
   "metadata": {},
   "source": [
    "The altair package can be installed this way:\n",
    "conda install altair --channel conda-forge"
   ]
  },
  {
   "cell_type": "code",
   "execution_count": 1,
   "metadata": {},
   "outputs": [],
   "source": [
    "import sqlite3\n",
    "import pandas as pd\n",
    "import altair as alt\n",
    "import os\n",
    "os.chdir('C:/Users/natek/Documents/GitHub/code_lou_python')"
   ]
  },
  {
   "cell_type": "markdown",
   "metadata": {},
   "source": [
    "Reading in an excel sheet of jobs related data for Louisville and for peer cities (source: Greater Louisville Project)"
   ]
  },
  {
   "cell_type": "code",
   "execution_count": 2,
   "metadata": {},
   "outputs": [],
   "source": [
    "jobs_df = pd.read_excel('GLP-Codebook.xlsx', 'Jobs County', index_col=None, na_values=['NA'])"
   ]
  },
  {
   "cell_type": "markdown",
   "metadata": {},
   "source": [
    "Creating a sql database and then querying back just the unemployment data by year and city. Only for cities that are currently peers "
   ]
  },
  {
   "cell_type": "code",
   "execution_count": 3,
   "metadata": {},
   "outputs": [],
   "source": [
    "jobs_df.to_sql(\"jobs_table\", sqlite3.connect(\"jobs.db\"), if_exists = \"replace\")"
   ]
  },
  {
   "cell_type": "code",
   "execution_count": 4,
   "metadata": {},
   "outputs": [],
   "source": [
    "jobs_df = pd.read_sql_query(\"SELECT year, city, unemployment FROM jobs_table WHERE current = 1\", sqlite3.connect(\"jobs.db\"))"
   ]
  },
  {
   "cell_type": "markdown",
   "metadata": {},
   "source": [
    "Making year into a datetime, subsetting to just Louisville, peers without Louisville, and finding mean of non-Louisville cities"
   ]
  },
  {
   "cell_type": "code",
   "execution_count": 5,
   "metadata": {},
   "outputs": [],
   "source": [
    "jobs_df['year'] = pd.to_datetime(jobs_df['year'], format = \"%Y\")\n",
    "lou_df = jobs_df[(jobs_df.city == \"Louisville\")]\n",
    "peer_df = jobs_df[(jobs_df.city != \"Louisville\")]\n",
    "mean_df = peer_df.groupby('year', as_index = False).mean()"
   ]
  },
  {
   "cell_type": "markdown",
   "metadata": {},
   "source": [
    "Renaming columns and merging Louisville and peer together. Also melting data to long format for graphing."
   ]
  },
  {
   "cell_type": "code",
   "execution_count": 6,
   "metadata": {},
   "outputs": [],
   "source": [
    "lou_df = lou_df.filter(items = ['year', 'unemployment'])\n",
    "lou_df = lou_df.rename(columns = {\"unemployment\":\"Louisville\"})\n",
    "mean_df = mean_df.rename(columns = {\"unemployment\":\"Peers\"})\n",
    "df = pd.merge(lou_df, mean_df, how = 'outer', left_on = ['year'], right_on = ['year'])\n",
    "df_graph = df.melt(id_vars = ['year'], value_vars = ['Louisville', 'Peers'], var_name = \"City\", value_name = \"Unemployment\")"
   ]
  },
  {
   "cell_type": "markdown",
   "metadata": {},
   "source": [
    "Graphing and saving output as .html file"
   ]
  },
  {
   "cell_type": "code",
   "execution_count": 7,
   "metadata": {},
   "outputs": [],
   "source": [
    "chart = alt.Chart(df_graph).mark_line().encode(\n",
    "    x='year',\n",
    "    y='Unemployment',\n",
    "    color='City'\n",
    ")"
   ]
  },
  {
   "cell_type": "code",
   "execution_count": 8,
   "metadata": {},
   "outputs": [],
   "source": [
    "chart.savechart('unemp.html')"
   ]
  }
 ],
 "metadata": {
  "kernelspec": {
   "display_name": "Python 3",
   "language": "python",
   "name": "python3"
  },
  "language_info": {
   "codemirror_mode": {
    "name": "ipython",
    "version": 3
   },
   "file_extension": ".py",
   "mimetype": "text/x-python",
   "name": "python",
   "nbconvert_exporter": "python",
   "pygments_lexer": "ipython3",
   "version": "3.6.4"
  }
 },
 "nbformat": 4,
 "nbformat_minor": 2
}
