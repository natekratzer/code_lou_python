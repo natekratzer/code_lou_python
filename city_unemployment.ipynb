{
 "cells": [
  {
   "cell_type": "markdown",
   "metadata": {},
   "source": [
    "##Did Louisville's unemployment rate recover from the recession more quickly than similar cities?\n",
    "\n",
    "Importing libraries and setting the working directory"
   ]
  },
  {
   "cell_type": "markdown",
   "metadata": {},
   "source": [
    "The altair package can be installed this way:\n",
    "conda install altair --channel conda-forge"
   ]
  },
  {
   "cell_type": "code",
   "execution_count": 1,
   "metadata": {},
   "outputs": [],
   "source": [
    "import sqlite3\n",
    "import pandas as pd\n",
    "import altair as alt\n",
    "import os\n",
    "os.chdir('C:/Users/natek/Documents/GitHub/code_lou_python')"
   ]
  },
  {
   "cell_type": "markdown",
   "metadata": {},
   "source": [
    "Reading in an excel sheet of jobs related data for Louisville and for peer cities (source: Greater Louisville Project)"
   ]
  },
  {
   "cell_type": "code",
   "execution_count": 2,
   "metadata": {},
   "outputs": [],
   "source": [
    "jobs_df = pd.read_excel('GLP-Codebook.xlsx', 'Jobs County', index_col=None, na_values=['NA'])"
   ]
  },
  {
   "cell_type": "markdown",
   "metadata": {},
   "source": [
    "Creating a sql database and then querying back just the unemployment data by year and city. Only for cities that are currently peers "
   ]
  },
  {
   "cell_type": "code",
   "execution_count": 3,
   "metadata": {},
   "outputs": [],
   "source": [
    "jobs_df.to_sql(\"jobs_table\", sqlite3.connect(\"jobs.db\"), if_exists = \"replace\")"
   ]
  },
  {
   "cell_type": "code",
   "execution_count": 5,
   "metadata": {},
   "outputs": [],
   "source": [
    "jobs_df = pd.read_sql_query(\"SELECT year, city, unemployment FROM jobs_table WHERE current = 1\", sqlite3.connect(\"jobs.db\"))"
   ]
  },
  {
   "cell_type": "markdown",
   "metadata": {},
   "source": [
    "Making year into a datetime, subsetting to just Louisville, peers without Louisville, and finding mean of non-Louisville cities"
   ]
  },
  {
   "cell_type": "code",
   "execution_count": 6,
   "metadata": {},
   "outputs": [],
   "source": [
    "jobs_df['year'] = pd.to_datetime(jobs_df['year'], format = \"%Y\")\n",
    "lou_df = jobs_df[(jobs_df.city == \"Louisville\")]\n",
    "peer_df = jobs_df[(jobs_df.city != \"Louisville\")]\n",
    "mean_df = peer_df.groupby('year', as_index = False).mean()"
   ]
  },
  {
   "cell_type": "markdown",
   "metadata": {},
   "source": [
    "Renaming columns and merging Louisville and peer together. Also melting data to long format for graphing."
   ]
  },
  {
   "cell_type": "code",
   "execution_count": 10,
   "metadata": {},
   "outputs": [],
   "source": [
    "lou_df = lou_df.filter(items = ['year', 'unemployment'])\n",
    "lou_df = lou_df.rename(columns = {\"unemployment\":\"Louisville\"})\n",
    "mean_df = mean_df.rename(columns = {\"unemployment\":\"Peers\"})\n",
    "df = pd.merge(lou_df, mean_df, how = 'outer', left_on = ['year'], right_on = ['year'])\n",
    "df_graph = df.melt(id_vars = ['year'], value_vars = ['Louisville', 'Peers'], var_name = \"City\", value_name = \"Unemployment\")"
   ]
  },
  {
   "cell_type": "markdown",
   "metadata": {},
   "source": [
    "Graphing and saving output as .html file"
   ]
  },
  {
   "cell_type": "code",
   "execution_count": 14,
   "metadata": {},
   "outputs": [],
   "source": [
    "chart = alt.Chart(df_graph).mark_line().encode(\n",
    "    x='year',\n",
    "    y='Unemployment',\n",
    "    color='City'\n",
    ")"
   ]
  },
  {
   "cell_type": "code",
   "execution_count": 17,
   "metadata": {},
   "outputs": [
    {
     "data": {
      "text/html": [
       "<div class=\"vega-embed\" id=\"aa12dd53-61fc-49a6-a7de-84f24a32e1a3\"></div>\n",
       "\n",
       "<style>\n",
       ".vega-embed svg, .vega-embed canvas {\n",
       "  border: 1px dotted gray;\n",
       "}\n",
       "\n",
       ".vega-embed .vega-actions a {\n",
       "  margin-right: 6px;\n",
       "}\n",
       "</style>\n"
      ]
     },
     "metadata": {
      "jupyter-vega": "#aa12dd53-61fc-49a6-a7de-84f24a32e1a3"
     },
     "output_type": "display_data"
    },
    {
     "data": {
      "application/javascript": [
       "var spec = {\"config\": {\"cell\": {\"width\": 500, \"height\": 350}}, \"encoding\": {\"color\": {\"field\": \"City\", \"type\": \"nominal\"}, \"x\": {\"field\": \"year\", \"type\": \"temporal\"}, \"y\": {\"field\": \"Unemployment\", \"type\": \"quantitative\"}}, \"mark\": \"line\", \"data\": {\"values\": [{\"year\": \"2005-01-01\", \"City\": \"Louisville\", \"Unemployment\": 5.9}, {\"year\": \"2006-01-01\", \"City\": \"Louisville\", \"Unemployment\": 5.7}, {\"year\": \"2007-01-01\", \"City\": \"Louisville\", \"Unemployment\": 5.3}, {\"year\": \"2008-01-01\", \"City\": \"Louisville\", \"Unemployment\": 6.3}, {\"year\": \"2009-01-01\", \"City\": \"Louisville\", \"Unemployment\": 10.1}, {\"year\": \"2010-01-01\", \"City\": \"Louisville\", \"Unemployment\": 10.0}, {\"year\": \"2011-01-01\", \"City\": \"Louisville\", \"Unemployment\": 9.5}, {\"year\": \"2012-01-01\", \"City\": \"Louisville\", \"Unemployment\": 7.9}, {\"year\": \"2013-01-01\", \"City\": \"Louisville\", \"Unemployment\": 7.6}, {\"year\": \"2014-01-01\", \"City\": \"Louisville\", \"Unemployment\": 6.1}, {\"year\": \"2015-01-01\", \"City\": \"Louisville\", \"Unemployment\": 4.9}, {\"year\": \"2005-01-01\", \"City\": \"Peers\", \"Unemployment\": 5.183355134434013}, {\"year\": \"2006-01-01\", \"City\": \"Peers\", \"Unemployment\": 4.729171611853161}, {\"year\": \"2007-01-01\", \"City\": \"Peers\", \"Unemployment\": 4.590456037215881}, {\"year\": \"2008-01-01\", \"City\": \"Peers\", \"Unemployment\": 5.5233636376636}, {\"year\": \"2009-01-01\", \"City\": \"Peers\", \"Unemployment\": 9.032106582122244}, {\"year\": \"2010-01-01\", \"City\": \"Peers\", \"Unemployment\": 9.070598553948024}, {\"year\": \"2011-01-01\", \"City\": \"Peers\", \"Unemployment\": 8.200242825957027}, {\"year\": \"2012-01-01\", \"City\": \"Peers\", \"Unemployment\": 7.067661685411151}, {\"year\": \"2013-01-01\", \"City\": \"Peers\", \"Unemployment\": 6.670671851560013}, {\"year\": \"2014-01-01\", \"City\": \"Peers\", \"Unemployment\": 5.589567212033699}, {\"year\": \"2015-01-01\", \"City\": \"Peers\", \"Unemployment\": 4.820941207932695}]}, \"$schema\": \"https://vega.github.io/schema/vega-lite/v1.2.1.json\"};\n",
       "var selector = \"#aa12dd53-61fc-49a6-a7de-84f24a32e1a3\";\n",
       "var type = \"vega-lite\";\n",
       "\n",
       "var output_area = this;\n",
       "require(['nbextensions/jupyter-vega/index'], function(vega) {\n",
       "  vega.render(selector, spec, type, output_area);\n",
       "}, function (err) {\n",
       "  if (err.requireType !== 'scripterror') {\n",
       "    throw(err);\n",
       "  }\n",
       "});\n"
      ]
     },
     "metadata": {
      "jupyter-vega": "#aa12dd53-61fc-49a6-a7de-84f24a32e1a3"
     },
     "output_type": "display_data"
    }
   ],
   "source": [
    "chart"
   ]
  },
  {
   "cell_type": "code",
   "execution_count": 15,
   "metadata": {},
   "outputs": [],
   "source": [
    "chart.savechart('unemp.html')"
   ]
  }
 ],
 "metadata": {
  "kernelspec": {
   "display_name": "Python 3",
   "language": "python",
   "name": "python3"
  },
  "language_info": {
   "codemirror_mode": {
    "name": "ipython",
    "version": 3
   },
   "file_extension": ".py",
   "mimetype": "text/x-python",
   "name": "python",
   "nbconvert_exporter": "python",
   "pygments_lexer": "ipython3",
   "version": "3.6.4"
  }
 },
 "nbformat": 4,
 "nbformat_minor": 2
}
